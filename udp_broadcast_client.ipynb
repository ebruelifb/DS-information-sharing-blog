{
 "cells": [
  {
   "cell_type": "code",
   "execution_count": 21,
   "metadata": {},
   "outputs": [],
   "source": [
    "import socket"
   ]
  },
  {
   "cell_type": "code",
   "execution_count": 22,
   "metadata": {},
   "outputs": [],
   "source": [
    "def client_start():\n",
    "    \n",
    "    # Create a UDP socket\n",
    "    client_socket = socket.socket(socket.AF_INET, socket.SOCK_DGRAM, socket.IPPROTO_UDP)\n",
    "\n",
    "    client_socket.setsockopt(socket.SOL_SOCKET, socket.SO_REUSEADDR, 1)\n",
    "\n",
    "    # Enable broadcasting mode\n",
    "    client_socket.setsockopt(socket.SOL_SOCKET, socket.SO_BROADCAST, 1)\n",
    "\n",
    "    # Bind the socket to the port\n",
    "    #server_address = \"\"\n",
    "    server_port = 8080\n",
    "\n",
    "    client_socket.bind((socket.gethostname(), 37020))\n",
    "\n",
    "    # Buffer size\n",
    "    buffer_size = 1024\n",
    "\n",
    "    message = 'Hi server!'\n",
    "\n",
    "    try:\n",
    "        # Send data\n",
    "        send_message(client_socket, message, server_port)\n",
    "\n",
    "        # Receive response\n",
    "        print('Waiting for response...')\n",
    "        data, address = recieve_message(client_socket, buffer_size)\n",
    "        print('Received message from server: ', data.decode())\n",
    "\n",
    "    finally:\n",
    "        client_socket.close()\n",
    "        print('Socket closed')"
   ]
  },
  {
   "cell_type": "code",
   "execution_count": 23,
   "metadata": {},
   "outputs": [],
   "source": [
    "def send_message(client_socket, message, server_port):\n",
    "    \n",
    "    client_socket.sendto(message.encode(), ('<broadcast>', server_port))\n",
    "    print('Sent to server: ', message)"
   ]
  },
  {
   "cell_type": "code",
   "execution_count": 24,
   "metadata": {},
   "outputs": [],
   "source": [
    "def recieve_message(client_socket, buffer_size):\n",
    "    \n",
    "    return client_socket.recvfrom(buffer_size)"
   ]
  },
  {
   "cell_type": "code",
   "execution_count": 25,
   "metadata": {},
   "outputs": [
    {
     "name": "stdout",
     "output_type": "stream",
     "text": [
      "Sent to server:  Hi server!\n",
      "Waiting for response...\n",
      "Received message from server:  Hi client! Nice to connect with you!\n",
      "Socket closed\n"
     ]
    }
   ],
   "source": [
    "client_start()"
   ]
  }
 ],
 "metadata": {
  "kernelspec": {
   "display_name": "Python 3",
   "language": "python",
   "name": "python3"
  },
  "language_info": {
   "codemirror_mode": {
    "name": "ipython",
    "version": 3
   },
   "file_extension": ".py",
   "mimetype": "text/x-python",
   "name": "python",
   "nbconvert_exporter": "python",
   "pygments_lexer": "ipython3",
   "version": "3.8.5"
  }
 },
 "nbformat": 4,
 "nbformat_minor": 4
}
